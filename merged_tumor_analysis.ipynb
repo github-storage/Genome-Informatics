{
 "cells": [
  {
   "cell_type": "code",
   "execution_count": 2,
   "metadata": {},
   "outputs": [
    {
     "name": "stdout",
     "output_type": "stream",
     "text": [
      "Requirement already satisfied: pysam in /opt/conda/lib/python3.8/site-packages (0.16.0.1)\n",
      "Note: you may need to restart the kernel to use updated packages.\n"
     ]
    }
   ],
   "source": [
    "pip install pysam"
   ]
  },
  {
   "cell_type": "code",
   "execution_count": 3,
   "metadata": {},
   "outputs": [],
   "source": [
    "import pysam as pys"
   ]
  },
  {
   "cell_type": "code",
   "execution_count": 4,
   "metadata": {},
   "outputs": [
    {
     "name": "stdout",
     "output_type": "stream",
     "text": [
      "C0HVYACXX120402:7:1207:5722:57044\t1187\t20\t9483248\t27\t76M\t20\t9483381\t76\tTTTTCAAACAGTATCTATGCCTGCCAAATGTGAACATATAAAAAAAAACCAGAATGTGCCATTCTGATTTAAACTG\tarray('B', [28, 28, 27, 29, 31, 30, 31, 31, 29, 31, 35, 30, 29, 31, 34, 30, 29, 23, 41, 32, 20, 30, 29, 34, 34, 29, 30, 31, 30, 30, 30, 33, 33, 26, 39, 12, 25, 19, 32, 30, 35, 28, 35, 33, 23, 33, 35, 36, 30, 38, 33, 41, 34, 35, 31, 33, 23, 30, 30, 36, 27, 32, 29, 34, 35, 41, 33, 31, 33, 29, 32, 32, 31, 31, 31, 34])\t[('XA', 'GL000217.1,-110754,76M,1;'), ('BD', 'NNNNNNNNNNNNNNNNNNNNNNNNNNNNNNNNNNNNNNNNNNNNNNNNNNNNNNNNNNNNNNNNNNNNNNNNNNNN'), ('MD', '76'), ('RG', '1'), ('BI', 'NNNNNNNNNNNNNNNNNNNNNNNNNNNNNNNNNNNNNNNNNNNNNNNNNNNNNNNNNNNNNNNNNNNNNNNNNNNN'), ('NM', 0), ('MQ', 27), ('AS', 76), ('XS', 71)]\n"
     ]
    }
   ],
   "source": [
    "# Take the first read from the AlignmentFile\n",
    "AlignmentFile = pys.AlignmentFile('/sbgenomics/workspace/merged-tumor.bam','rb')\n",
    "\n",
    "for read in AlignmentFile:\n",
    "    AlignedSegment = read  \n",
    "    print(read)\n",
    "    break\n",
    "    "
   ]
  },
  {
   "cell_type": "code",
   "execution_count": 5,
   "metadata": {},
   "outputs": [
    {
     "data": {
      "text/plain": [
       "{'name': 'C0HVYACXX120402:7:1207:5722:57044',\n",
       " 'flag': '1187',\n",
       " 'ref_name': '21',\n",
       " 'ref_pos': '9483249',\n",
       " 'map_quality': '27',\n",
       " 'cigar': '76M',\n",
       " 'next_ref_name': '=',\n",
       " 'next_ref_pos': '9483382',\n",
       " 'length': '209',\n",
       " 'seq': 'TTTTCAAACAGTATCTATGCCTGCCAAATGTGAACATATAAAAAAAAACCAGAATGTGCCATTCTGATTTAAACTG',\n",
       " 'qual': '==<>@?@@>@D?>@C?>8JA5?>CC>?@???BB;H-:4A?D=DB8BDE?GBJCD@B8??E<A>CDJB@B>AA@@@C',\n",
       " 'tags': ['XA:Z:GL000217.1,-110754,76M,1;',\n",
       "  'BD:Z:NNNNNNNNNNNNNNNNNNNNNNNNNNNNNNNNNNNNNNNNNNNNNNNNNNNNNNNNNNNNNNNNNNNNNNNNNNNN',\n",
       "  'MD:Z:76',\n",
       "  'RG:Z:1',\n",
       "  'BI:Z:NNNNNNNNNNNNNNNNNNNNNNNNNNNNNNNNNNNNNNNNNNNNNNNNNNNNNNNNNNNNNNNNNNNNNNNNNNNN',\n",
       "  'NM:i:0',\n",
       "  'MQ:i:27',\n",
       "  'AS:i:76',\n",
       "  'XS:i:71']}"
      ]
     },
     "execution_count": 5,
     "metadata": {},
     "output_type": "execute_result"
    }
   ],
   "source": [
    "# Inspect the fields in the AlignedSegment\n",
    "\n",
    "AlignedSegment.to_dict()"
   ]
  },
  {
   "cell_type": "code",
   "execution_count": 6,
   "metadata": {},
   "outputs": [
    {
     "name": "stdout",
     "output_type": "stream",
     "text": [
      "AlignedSegment.flag =  1187\n",
      "\n",
      "///////////////////////////////////////////////////////////////////////////////////////////////////\n",
      "//                                Decoding SAM flag (1187)                                       //\n",
      "///////////////////////////////////////////////////////////////////////////////////////////////////\n",
      "\n",
      "first in pair:                                             second in pair: \n",
      "\n",
      "read paired (0x1)                                          read paired (0x1)\n",
      "read mapped in proper pair (0x2)                           read mapped in proper pair (0x2)\n",
      "mate reverse strand (0x20)                                 read reverse strand (0x10)\n",
      "second in pair (0x80)                                      first in pair (0x40)\n",
      "read is PCR or optical duplicate (0x400)                   read is PCR or optical duplicate (0x400)\n"
     ]
    }
   ],
   "source": [
    "# Inspect the flag field\n",
    "\n",
    "# we should use webpage on this link: https://broadinstitute.github.io/picard/explain-flags.html\n",
    "# in order to decode value of flag.\n",
    "\n",
    "print(\"AlignedSegment.flag = \",AlignedSegment.flag)\n",
    "print(\"\")\n",
    "print(\"///////////////////////////////////////////////////////////////////////////////////////////////////\")\n",
    "print(\"//                                Decoding SAM flag (1187)                                       //\")\n",
    "print(\"///////////////////////////////////////////////////////////////////////////////////////////////////\")\n",
    "print(\"\")\n",
    "print(\"first in pair:                                             second in pair: \\n\")\n",
    "print(\"read paired (0x1)                                          read paired (0x1)\")\n",
    "print(\"read mapped in proper pair (0x2)                           read mapped in proper pair (0x2)\")\n",
    "print(\"mate reverse strand (0x20)                                 read reverse strand (0x10)\")\n",
    "print(\"second in pair (0x80)                                      first in pair (0x40)\")\n",
    "print(\"read is PCR or optical duplicate (0x400)                   read is PCR or optical duplicate (0x400)\")"
   ]
  },
  {
   "cell_type": "code",
   "execution_count": 7,
   "metadata": {},
   "outputs": [
    {
     "name": "stdout",
     "output_type": "stream",
     "text": [
      "[1, 0, 1, 0, 0, 0, 1, 1]\n"
     ]
    }
   ],
   "source": [
    "# How many unmapped reads are in the file ?\n",
    "# We need to convert decimal to binary and then to see if bit 2 has value one ==> read is unmaped\n",
    "\n",
    "# Axilary function\n",
    "\n",
    "def DecimalToBinary(num):\n",
    "    binary_array = [] \n",
    "    while num >= 1:\n",
    "        binary_array.append(num % 2)\n",
    "        num = num // 2\n",
    "    \n",
    "    return binary_array\n",
    "\n",
    "    \n",
    "array = DecimalToBinary(163)\n",
    "array.reverse()\n",
    "print(array)\n",
    "\n"
   ]
  },
  {
   "cell_type": "code",
   "execution_count": 8,
   "metadata": {},
   "outputs": [
    {
     "name": "stdout",
     "output_type": "stream",
     "text": [
      "unmapped reads number is  17765\n"
     ]
    }
   ],
   "source": [
    "# How many unmapped reads are in the file ?\n",
    "unmapped_reads = 0\n",
    "for read in pys.AlignmentFile('/sbgenomics/workspace/merged-tumor.bam','rb'):\n",
    "    array = DecimalToBinary(read.flag)\n",
    "    if len(array) >= 3 and array[2] == 1:\n",
    "        unmapped_reads = unmapped_reads + 1\n",
    "    \n",
    "print(\"unmapped reads number is \", unmapped_reads)"
   ]
  },
  {
   "cell_type": "code",
   "execution_count": 9,
   "metadata": {},
   "outputs": [
    {
     "name": "stdout",
     "output_type": "stream",
     "text": [
      "total number of reads is =  2921629\n"
     ]
    }
   ],
   "source": [
    "# Total number of reads ?\n",
    "def total_reads_num():\n",
    "    total_reads = 0\n",
    "    for read in pys.AlignmentFile('/sbgenomics/workspace/merged-tumor.bam','rb'):\n",
    "        total_reads = total_reads + 1\n",
    "        \n",
    "    return total_reads\n",
    "\n",
    "print(\"total number of reads is = \", total_reads_num())"
   ]
  },
  {
   "cell_type": "code",
   "execution_count": 10,
   "metadata": {},
   "outputs": [
    {
     "name": "stdout",
     "output_type": "stream",
     "text": [
      "Number of reads with zero quality is =  126628\n"
     ]
    }
   ],
   "source": [
    "# Number of reads with mapping quality zero\n",
    "quality_zero = 0\n",
    "for read in pys.AlignmentFile('/sbgenomics/workspace/merged-tumor.bam','rb'):\n",
    "    if read.mapping_quality == 0 :\n",
    "        quality_zero = quality_zero + 1\n",
    "\n",
    "print(\"Number of reads with zero quality is = \", quality_zero)"
   ]
  },
  {
   "cell_type": "code",
   "execution_count": 11,
   "metadata": {},
   "outputs": [
    {
     "name": "stdout",
     "output_type": "stream",
     "text": [
      "Average mapping quality for all the reads is =  55.91379158681681\n"
     ]
    }
   ],
   "source": [
    "# Average mapping quality for all the reads ?\n",
    "average_quality = 0\n",
    "for read in pys.AlignmentFile('/sbgenomics/workspace/merged-tumor.bam','rb'):\n",
    "    average_quality = average_quality + read.mapping_quality\n",
    "\n",
    "average_quality = average_quality / total_reads_num()\n",
    "print(\"Average mapping quality for all the reads is = \", average_quality)"
   ]
  },
  {
   "cell_type": "code",
   "execution_count": 12,
   "metadata": {},
   "outputs": [
    {
     "name": "stdout",
     "output_type": "stream",
     "text": [
      "Average mapping quality for all the reads when reads with 0 mapp quality are filtered out  is =  58.446975510921106\n"
     ]
    }
   ],
   "source": [
    "# Average mapping quality if reads with 0 mapp quality are filtered out ?\n",
    "reads_with_zero_quality = 0\n",
    "average_quality = 0\n",
    "for read in pys.AlignmentFile('/sbgenomics/workspace/merged-tumor.bam','rb'):\n",
    "    if (read.mapping_quality > 0):\n",
    "        average_quality = average_quality + read.mapping_quality\n",
    "    else:\n",
    "        reads_with_zero_quality = reads_with_zero_quality + 1\n",
    "    \n",
    "\n",
    "average_quality = average_quality / (total_reads_num() - reads_with_zero_quality )\n",
    "\n",
    "print(\"Average mapping quality for all the reads when reads with 0 mapp quality are filtered out  is = \", average_quality)"
   ]
  }
 ],
 "metadata": {
  "kernelspec": {
   "display_name": "Python 3",
   "language": "python",
   "name": "python3"
  },
  "language_info": {
   "codemirror_mode": {
    "name": "ipython",
    "version": 3
   },
   "file_extension": ".py",
   "mimetype": "text/x-python",
   "name": "python",
   "nbconvert_exporter": "python",
   "pygments_lexer": "ipython3",
   "version": "3.8.3"
  }
 },
 "nbformat": 4,
 "nbformat_minor": 4
}
